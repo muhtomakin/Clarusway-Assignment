{
 "cells": [
  {
   "cell_type": "code",
   "execution_count": null,
   "id": "5d1fc4ce",
   "metadata": {},
   "outputs": [],
   "source": [
    "def control(defkullanici, defparola):\n",
    "    while True :\n",
    "        kullanici = input(\"kullanici adi :\")\n",
    "        parola = input(\"parola :\")\n",
    "        if (kullanici == defkullanici ) or (parola == defparola ) :\n",
    "            print(\"welcome {}\".format(kullanici))\n",
    "            out = input(\"parolayi degistirmek istermisiniz (E/H): \")\n",
    "            if out.lower() == \"h\":\n",
    "                break\n",
    "            if out.lower() == \"e\":\n",
    "                defkullanici = input(\"kullanici adi :\")\n",
    "                defparola = input(\"parola :\")\n",
    "                control(defkullanici, defparola)\n",
    "        elif (kullanici != defkullanici ) or (parola == defparola ) :\n",
    "            print(\"kullanici adi yanlis\")\n",
    "        elif (kullanici == defkullanici ) or (parola != defparola ) :\n",
    "            print(\"parola  yanlis\")\n",
    "\n",
    "defkullanici = \"selam\"\n",
    "defparola = \"1234567\"    \n",
    "control(defkullanici, defparola)"
   ]
  }
 ],
 "metadata": {
  "kernelspec": {
   "display_name": "Python 3",
   "language": "python",
   "name": "python3"
  },
  "language_info": {
   "codemirror_mode": {
    "name": "ipython",
    "version": 3
   },
   "file_extension": ".py",
   "mimetype": "text/x-python",
   "name": "python",
   "nbconvert_exporter": "python",
   "pygments_lexer": "ipython3",
   "version": "3.8.8"
  }
 },
 "nbformat": 4,
 "nbformat_minor": 5
}
